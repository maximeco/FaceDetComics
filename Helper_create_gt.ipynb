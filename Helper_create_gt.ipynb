{
 "cells": [
  {
   "cell_type": "code",
   "execution_count": 7,
   "metadata": {},
   "outputs": [],
   "source": [
    "import cv2 as cv\n",
    "from matplotlib import pyplot as plt\n",
    "\n",
    "from MTCNN.utility import *"
   ]
  },
  {
   "cell_type": "markdown",
   "metadata": {},
   "source": [
    "### Helper Notebook\n",
    "\n",
    "This notebook was created in order to simplify the creation of new groundtruth for the dataset, It is not an optimal solution but it is working. The use is described in the cells."
   ]
  },
  {
   "cell_type": "code",
   "execution_count": 14,
   "metadata": {},
   "outputs": [],
   "source": [
    "def print_exemple(img, groundtruth) :\n",
    "    \"\"\"\n",
    "    This method will print an exemple image, when double-clicking on a position, will print out the position and save it in an array.\n",
    "    Use it to find the top left and bottom right position of a missing bounding box by double clicking.\n",
    "    \n",
    "    ----------Params-------------\n",
    "    img : the input image to check\n",
    "    grountruth : the actual given groundtruth (base + already added by hand)\n",
    "       \n",
    "    ----------Outputs------------\n",
    "    param : all the BB added by double clicking 2 times\n",
    "    \"\"\"\n",
    "    copy = img.copy()\n",
    "    ratio = img.shape[1]/600\n",
    "    \n",
    "    def mouseRGB(event,x,y,flags,param):\n",
    "        if event == cv.EVENT_LBUTTONDBLCLK and param[0]%2 == 0:\n",
    "            param[0] += 1\n",
    "            param[2] = (int(x*ratio), int(y*ratio))\n",
    "        elif event == cv.EVENT_LBUTTONDBLCLK and param[0]%2 == 1: #checks mouse left button down condition\n",
    "            param[0] += 1\n",
    "            l = (param[2][0], param[2][1], int(x*ratio), int(y*ratio))\n",
    "            param[1].append(l)\n",
    "            print(param)\n",
    "            \n",
    "            \n",
    "    for (c, column, row, width, height) in groundtruth:\n",
    "        if c == 7 :\n",
    "            cv.rectangle(copy, (column, row), (width, height), (255, 0, 0), 2)\n",
    "        if c == 11 :\n",
    "            cv.rectangle(copy, (column, row), (width, height), (0, 255, 0), 2)\n",
    "            \n",
    "    cv.namedWindow('mouseRGB')\n",
    "    param = [0, [], (0,0)]\n",
    "    cv.setMouseCallback('mouseRGB',mouseRGB, param)\n",
    "    copy = resize_img(copy, 600)\n",
    "    cv.imshow(\"mouseRGB\", copy)\n",
    "    cv.waitKey(0)  \n",
    "    cv.destroyAllWindows() \n",
    "    \n",
    "    return param\n",
    "\n",
    "def check(img, groundtruth, p) : \n",
    "    \"\"\"\n",
    "    This method will print an exemple image WITH the newly added BB with the previous method. Usefull to visually check the BB that were added.\n",
    "    If a BB is wrong, just rerun previous method.\n",
    "    \n",
    "    ----------Params-------------\n",
    "    img : the input image to check\n",
    "    grountruth : the actual given groundtruth (base + already added by hand) -> Shown in Green \n",
    "    p : the added BB -> Shown in red\n",
    "    \"\"\"\n",
    "        \n",
    "    copy = img.copy()\n",
    "    \n",
    "    for test in p :\n",
    "        cv.rectangle(copy, (test[0], test[1]), (test[2], test[3]), (0, 0, 255), 2)            \n",
    "            \n",
    "    for (c, column, row, width, height) in groundtruth:\n",
    "        if c == 7 or c ==11 :\n",
    "            cv.rectangle(copy, (column, row), (width, height), (0, 255, 0), 2)\n",
    "    copy = resize_img(copy, 600)\n",
    "    cv.imshow(\"mouseRGB\", copy)\n",
    "    cv.waitKey(0)  \n",
    "    cv.destroyAllWindows() \n",
    "        \n",
    "def pretty_print(param) :\n",
    "    \"\"\"\n",
    "    Helper method to print the newly created BB in a nice way, so that we can directly copy paste it in the according txt file.\n",
    "    \"\"\"\n",
    "    def to_string(a) :\n",
    "        return ' '.join([str(elem) for elem in a]).replace(\"(\", '').replace(\",\", \"\").replace(')', ' ')\n",
    "\n",
    "    for p in param :\n",
    "        print(\"11\", to_string(p))"
   ]
  },
  {
   "cell_type": "code",
   "execution_count": 23,
   "metadata": {},
   "outputs": [],
   "source": [
    "folder_img=\"dataset/train_test/good/img_train\"\n",
    "folder_gt=\"dataset/train_test/good/gt_train\""
   ]
  },
  {
   "cell_type": "code",
   "execution_count": 24,
   "metadata": {},
   "outputs": [
    {
     "name": "stdout",
     "output_type": "stream",
     "text": [
      "Loading images from folder :  dataset/train_test/good/img_train\n",
      "Check dataset length :  113\n",
      "Loading groundtruth from folder :  dataset/train_test/good/gt_train\n",
      "Check groundtruth length :  113\n"
     ]
    }
   ],
   "source": [
    "# Load the images\n",
    "print(\"Loading images from folder : \", folder_img)\n",
    "images, path_images = load_images_from_folder(folder_img)\n",
    "print(\"Check dataset length : \", len(images))\n",
    "\n",
    "# Load groundtruth :\n",
    "print(\"Loading groundtruth from folder : \", folder_gt)\n",
    "groundtruth, path_groundtruth = load_face_groundtruth_from_folder(folder_gt, 5)\n",
    "print(\"Check groundtruth length : \", len(groundtruth))"
   ]
  },
  {
   "cell_type": "markdown",
   "metadata": {},
   "source": [
    "#### Usage :\n",
    "\n",
    "- i : The index of the image to check \n",
    "- The image will then appear, double click one time to get the top left corner, then another time to set the bottom left. Proceed as such for each needed BB\n",
    "- Once done, close the image and run \"check\" this will print the images with the new BB. If not satisfy, close and rerun previous method, else close and run last cell\n",
    "- The pretty print outputs the new BB. Copy paste them at the end of the corresponding groundtruth file\n",
    "\n",
    "Disclaimer : I know this is far from being optimal, but again this is an extra, it's not the main focus of the project"
   ]
  },
  {
   "cell_type": "code",
   "execution_count": 37,
   "metadata": {},
   "outputs": [],
   "source": [
    "## USE : \n",
    "\n",
    "\n",
    "i = 1\n",
    "img = images[i]\n",
    "gt = groundtruth[i]\n",
    "\n",
    "params = print_exemple(img, gt)"
   ]
  },
  {
   "cell_type": "code",
   "execution_count": null,
   "metadata": {},
   "outputs": [],
   "source": [
    "check(img, gt, params[1])"
   ]
  },
  {
   "cell_type": "code",
   "execution_count": null,
   "metadata": {},
   "outputs": [],
   "source": [
    "pretty_print(params[1])"
   ]
  }
 ],
 "metadata": {
  "kernelspec": {
   "display_name": "Python 3",
   "language": "python",
   "name": "python3"
  },
  "language_info": {
   "codemirror_mode": {
    "name": "ipython",
    "version": 3
   },
   "file_extension": ".py",
   "mimetype": "text/x-python",
   "name": "python",
   "nbconvert_exporter": "python",
   "pygments_lexer": "ipython3",
   "version": "3.7.4"
  }
 },
 "nbformat": 4,
 "nbformat_minor": 4
}
