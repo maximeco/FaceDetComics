{
 "cells": [
  {
   "cell_type": "code",
   "execution_count": 1,
   "metadata": {},
   "outputs": [],
   "source": [
    "from facenet_pytorch import MTCNN\n",
    "import cv2\n",
    "from PIL import Image\n",
    "import numpy as np\n",
    "from matplotlib import pyplot as plt\n",
    "from tqdm import tqdm\n",
    "import torch\n",
    "\n",
    "\n",
    "from torch.utils.data import Dataset, DataLoader\n",
    "from torchvision import transforms, utils, datasets, models\n",
    "import torchvision\n",
    "\n",
    "import torch.nn as nn\n",
    "import torch.optim as optim\n",
    "\n",
    "from utility import *"
   ]
  },
  {
   "cell_type": "markdown",
   "metadata": {},
   "source": [
    "### Helper methods for results :"
   ]
  },
  {
   "cell_type": "code",
   "execution_count": 2,
   "metadata": {},
   "outputs": [],
   "source": [
    "# Helper methods to get the scores per comics (Usefull for data separation)\n",
    "\n",
    "def get_nb_files_per_comics(folder) :\n",
    "    \"\"\"\n",
    "    Compute the number of images per comics (Since the images are in subfolders of comics)\n",
    "    \n",
    "    : param : folder, the master folder containing all subfolders\n",
    "    : return : lengths, a list containing the number of image per comics\n",
    "    \"\"\"\n",
    "    \n",
    "    lengths = []\n",
    "    for subdir, dirs, files in os.walk(folder):\n",
    "        if \"checkpoints\" not in files and \"checkpoints\" not in dirs and \"checkpoints\" not in subdir :\n",
    "            lengths.append(len(files))\n",
    "    return lengths[1:]\n",
    "\n",
    "\n",
    "def compute_metric_per_comic(folder, groundtruth, pred, b_pred = False):\n",
    "    \"\"\"\n",
    "    Compute the precision/recall/f-score for each comics\n",
    "    \n",
    "    : param : folder, the master folder containing all subfolders\n",
    "    : groundtruth : The groundtruths of each images\n",
    "    : pred : the outputs of the model\n",
    "    : b_pred : depend on the form of the prediction (top left, width, heigth or top_left, bottom right)\n",
    "    : return : the metrics for each comics\n",
    "    \"\"\"\n",
    "    l = get_nb_files_per_comics(folder)\n",
    "    results = []\n",
    "    for i in range(len(l)):\n",
    "        tp_tot, fp_tot, fn_tot = compute_metrics(groundtruth[sum(l[:i]):sum(l[:i+1])], pred[sum(l[:i]):sum(l[:i+1])], b_pred)\n",
    "        precision, recall, f_score = prec_rec_f(tp_tot, fp_tot, fn_tot)\n",
    "        results.append((tp_tot, fp_tot, fn_tot, round(precision, 3), round(recall,3), round(f_score,3)))\n",
    "    \n",
    "    return results\n",
    "\n",
    "def get_dict_comics(folder) :\n",
    "    length = get_nb_files_per_comics(folder)\n",
    "    sum_ = 0\n",
    "    r = {}\n",
    "    for i, l in enumerate(length):\n",
    "        r[i] = ((sum_, l+sum_))\n",
    "        sum_ += l\n",
    "    return r\n",
    "\n",
    "\n",
    "def print_exemple_comic(id_, dict_comics, nb = 100):\n",
    "    for i in range(dict_comics[id_][0], min(dict_comics[id_][0] + nb, dict_comics[id_][1])):\n",
    "        print_exemple(i)"
   ]
  },
  {
   "cell_type": "code",
   "execution_count": 3,
   "metadata": {},
   "outputs": [],
   "source": [
    "def print_exemple(index, images, groundtruth, modified = False, pred = None, display = True) :\n",
    "    '''\n",
    "    Given an index, will print the image with the groundtruth and the prediction \n",
    "\n",
    "    :param image: given image\n",
    "    :param int width: desired final width \n",
    "    :param int width: desired final height\n",
    "    :Note : if both are given, height will be ignored to conserve aspect ratio\n",
    "    :return: copy of the image resized\n",
    "    ''' \n",
    "    copy = images[index].copy()\n",
    "    \n",
    "    if pred is not None:\n",
    "        if pred[index] is not None:\n",
    "            for (column, row, width, height) in pred[index]:\n",
    "                cv.rectangle(copy, (column, row), (column + width, row + height),\n",
    "                (0, 255, 0), 4)\n",
    "    if modified :\n",
    "        for (column, row, width, height) in groundtruth[index]:\n",
    "            cv.rectangle(copy, (column, row), (column+width, row+height),\n",
    "            (0, 0, 255), 4)\n",
    "    else :\n",
    "        if groundtruth[index].size > 0 :\n",
    "            for (x1, y1, x2, y2) in groundtruth[index][:, 1:]:\n",
    "                cv.rectangle(copy, (x1, y1), (x2, y2), (255, 0, 0), 4)\n",
    "\n",
    "    copy = resize_img(copy, width=680)\n",
    "    if display :\n",
    "        cv.imshow(\"example\", copy)\n",
    "        cv.waitKey(0)  \n",
    "        cv.destroyAllWindows()  \n",
    "    return copy"
   ]
  },
  {
   "cell_type": "code",
   "execution_count": null,
   "metadata": {},
   "outputs": [],
   "source": []
  },
  {
   "cell_type": "code",
   "execution_count": 13,
   "metadata": {},
   "outputs": [
    {
     "name": "stdout",
     "output_type": "stream",
     "text": [
      "Running on device: cuda:0\n"
     ]
    }
   ],
   "source": [
    "# Check cuda + load model \n",
    "\n",
    "device = torch.device('cuda:0' if torch.cuda.is_available() else 'cpu')\n",
    "print('Running on device: {}'.format(device))\n",
    "mtcnn = MTCNN(keep_all=True, device=device, thresholds = [0.5, 0.7, 0.7])"
   ]
  },
  {
   "cell_type": "code",
   "execution_count": 14,
   "metadata": {},
   "outputs": [
    {
     "name": "stdout",
     "output_type": "stream",
     "text": [
      "Loading images from folder :  ../dataset/images/images\n",
      "Check dataset length :  772\n",
      "Loading groundtruth from folder :  ../dataset/groundtruth\n",
      "Check groundtruth length :  772\n"
     ]
    }
   ],
   "source": [
    "folder_img = \"../dataset/images/images\"\n",
    "folder_gt = \"../dataset/groundtruth\"\n",
    "\n",
    "print(\"Loading images from folder : \", folder_img)\n",
    "images, path_images = load_images_from_folder(folder_img)\n",
    "print(\"Check dataset length : \", len(images))\n",
    "\n",
    "# Load groundtruth :\n",
    "print(\"Loading groundtruth from folder : \", folder_gt)\n",
    "groundtruth, path_groundtruth = load_face_groundtruth_from_folder(folder_gt, 5)\n",
    "print(\"Check groundtruth length : \", len(groundtruth))"
   ]
  },
  {
   "cell_type": "code",
   "execution_count": 4,
   "metadata": {},
   "outputs": [
    {
     "name": "stdout",
     "output_type": "stream",
     "text": [
      "Loading images from folder :  ../dataset/images/good\n",
      "Check dataset length :  162\n",
      "Loading groundtruth from folder :  ../dataset/gt/good\n",
      "Check groundtruth length :  162\n"
     ]
    }
   ],
   "source": [
    "folder_img = \"../dataset/images/good\"\n",
    "folder_gt = \"../dataset/gt/good\"\n",
    "\n",
    "print(\"Loading images from folder : \", folder_img)\n",
    "images, path_images = load_images_from_folder(folder_img)\n",
    "print(\"Check dataset length : \", len(images))\n",
    "\n",
    "# Load groundtruth :\n",
    "print(\"Loading groundtruth from folder : \", folder_gt)\n",
    "groundtruth, path_groundtruth = load_face_groundtruth_from_folder(folder_gt, 5)\n",
    "print(\"Check groundtruth length : \", len(groundtruth))"
   ]
  },
  {
   "cell_type": "code",
   "execution_count": 15,
   "metadata": {},
   "outputs": [],
   "source": [
    "# Convert for MTCNN\n",
    "img_mtcnn = [Image.fromarray(cv.cvtColor(frame, cv.COLOR_BGR2RGB)) for frame in images]"
   ]
  },
  {
   "cell_type": "code",
   "execution_count": 19,
   "metadata": {},
   "outputs": [
    {
     "name": "stderr",
     "output_type": "stream",
     "text": [
      "100%|██████████| 772/772 [12:41<00:00,  1.01it/s] \n"
     ]
    }
   ],
   "source": [
    "# Detect faces\n",
    "pred_mtcnn = []\n",
    "\n",
    "for img in tqdm(img_mtcnn) :\n",
    "    detected_faces, _ = mtcnn.detect(img)\n",
    "    pred_mtcnn.append(detected_faces)"
   ]
  },
  {
   "cell_type": "code",
   "execution_count": 9,
   "metadata": {},
   "outputs": [
    {
     "name": "stdout",
     "output_type": "stream",
     "text": [
      "There is in total 1317 faces in the test set\n"
     ]
    }
   ],
   "source": [
    "sum_ = 0\n",
    "for gt in groundtruth:\n",
    "    sum_ += len(gt)\n",
    "    \n",
    "print(\"There is in total %s faces in the test set\"%(sum_))"
   ]
  },
  {
   "cell_type": "code",
   "execution_count": 24,
   "metadata": {},
   "outputs": [
    {
     "name": "stdout",
     "output_type": "stream",
     "text": [
      "Id, tp, fp, fn , prec, recall, f_score\n",
      "0 (278, 46, 201, 0.858, 0.58, 0.692)\n",
      "1 (108, 56, 293, 0.659, 0.269, 0.355)\n",
      "2 (117, 74, 90, 0.613, 0.565, 0.588)\n",
      "3 (51, 82, 102, 0.383, 0.333, 0.256)\n",
      "4 (63, 69, 163, 0.477, 0.279, 0.266)\n",
      "5 (182, 123, 89, 0.597, 0.672, 0.632)\n",
      "6 (18, 23, 114, 0.439, 0.136, 0.12)\n",
      "7 (8, 2, 15, 0.8, 0.348, 0.485)\n",
      "8 (50, 39, 65, 0.562, 0.435, 0.489)\n",
      "9 (32, 84, 120, 0.276, 0.211, 0.116)\n",
      "10 (60, 51, 46, 0.541, 0.566, 0.553)\n",
      "11 (2, 0, 13, 1.0, 0.133, 0.235)\n",
      "12 (2, 0, 13, 1.0, 0.133, 0.235)\n",
      "13 (19, 15, 166, 0.559, 0.103, 0.115)\n",
      "14 (61, 10, 136, 0.859, 0.31, 0.455)\n",
      "15 (160, 73, 135, 0.687, 0.542, 0.606)\n",
      "16 (123, 93, 137, 0.569, 0.473, 0.517)\n",
      "17 (68, 19, 168, 0.782, 0.288, 0.421)\n",
      "18 (153, 60, 282, 0.718, 0.352, 0.472)\n",
      "19 (94, 8, 136, 0.922, 0.409, 0.566)\n",
      "20 (0, 20, 1, 0.0, 0.0, 0.0)\n",
      "21 (238, 101, 122, 0.702, 0.661, 0.681)\n",
      "22 (0, 0, 1, 0.0, 0.0, 0.0)\n",
      "23 (12, 15, 102, 0.444, 0.105, 0.094)\n",
      "24 (56, 16, 167, 0.778, 0.251, 0.38)\n",
      "25 (79, 9, 250, 0.898, 0.24, 0.379)\n",
      "26 (69, 18, 258, 0.793, 0.211, 0.333)\n"
     ]
    }
   ],
   "source": [
    "## default\n",
    "dict_comics = get_dict_comics(folder_img)\n",
    "\n",
    "results = compute_metric_per_comic(folder_img, groundtruth, pred_mtcnn)\n",
    "print(\"Id, tp, fp, fn , prec, recall, f_score\")\n",
    "for i, r in enumerate(results) :\n",
    "    print(i, r)"
   ]
  },
  {
   "cell_type": "code",
   "execution_count": 26,
   "metadata": {},
   "outputs": [
    {
     "name": "stdout",
     "output_type": "stream",
     "text": [
      "tp, fp, fn , prec, recall, f_score\n",
      "2103 1106 3385 0.6553443440324088 0.3831997084548105 0.4836150396688513\n"
     ]
    }
   ],
   "source": [
    "tp, fp, fn = compute_metrics(groundtruth, pred_mtcnn)\n",
    "prec, recall, f_score = prec_rec_f(tp, fp, fn)\n",
    "print(\"tp, fp, fn , prec, recall, f_score\")\n",
    "print(tp, fp, fn, prec, recall, f_score)"
   ]
  },
  {
   "cell_type": "code",
   "execution_count": null,
   "metadata": {},
   "outputs": [],
   "source": []
  }
 ],
 "metadata": {
  "kernelspec": {
   "display_name": "Python 3",
   "language": "python",
   "name": "python3"
  },
  "language_info": {
   "codemirror_mode": {
    "name": "ipython",
    "version": 3
   },
   "file_extension": ".py",
   "mimetype": "text/x-python",
   "name": "python",
   "nbconvert_exporter": "python",
   "pygments_lexer": "ipython3",
   "version": "3.7.4"
  }
 },
 "nbformat": 4,
 "nbformat_minor": 4
}
