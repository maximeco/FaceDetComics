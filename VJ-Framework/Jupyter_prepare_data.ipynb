{
 "cells": [
  {
   "cell_type": "code",
   "execution_count": 2,
   "metadata": {},
   "outputs": [],
   "source": [
    "import os\n",
    "import numpy as np\n",
    "import cv2 as cv\n",
    "from matplotlib import pyplot as plt\n",
    "from vjutility import *"
   ]
  },
  {
   "cell_type": "markdown",
   "metadata": {},
   "source": [
    "### Prepare Data Notebook\n",
    "\n",
    "This notebook is usefull to prepare the data for the Viola-Jones openCV framework. This will automatically create the files needed for the training. Once the files are created, the training needs to be done separatelly. There is also a method to split the dataset into train/test.\n",
    "\n",
    "All the auxiliary methods are defined in \"utility_VJ.py\""
   ]
  },
  {
   "cell_type": "markdown",
   "metadata": {},
   "source": [
    "### Split train test"
   ]
  },
  {
   "cell_type": "code",
   "execution_count": 5,
   "metadata": {},
   "outputs": [
    {
     "name": "stdout",
     "output_type": "stream",
     "text": [
      "Loading images from folder :  ../dataset/images/style2\n",
      "Check dataset length :  65\n",
      "Loading groundtruth from folder :  ../dataset/gt/style2\n",
      "Check groundtruth length :  65\n",
      "Extracting train/test, storing in :  ../dataset/train_test/style2\n"
     ]
    }
   ],
   "source": [
    "folder_img=\"../dataset/images/style2\"\n",
    "folder_gt=\"../dataset/gt/style2\"\n",
    "folder_store=\"../dataset/train_test/style2\"\n",
    "\n",
    "print(\"Loading images from folder : \", folder_img)\n",
    "#folder=\"dcm_dataset.git/images/images\"\n",
    "images, path_images = load_images_from_folder(folder_img)\n",
    "print(\"Check dataset length : \", len(images))\n",
    "\n",
    "# Load groundtruth :\n",
    "print(\"Loading groundtruth from folder : \", folder_gt)\n",
    "#folder=\"dcm_dataset.git\\groundtruth\"\n",
    "groundtruth, path_groundtruth = load_all_groundtruth(folder_gt, 5)\n",
    "print(\"Check groundtruth length : \", len(groundtruth))\n",
    "\n",
    "# split dataset\n",
    "print(\"Extracting train/test, storing in : \", folder_store)\n",
    "split_train_test(images, groundtruth, folder_store, 0.2)"
   ]
  },
  {
   "cell_type": "markdown",
   "metadata": {},
   "source": [
    "### Framework data VJ"
   ]
  },
  {
   "cell_type": "code",
   "execution_count": 14,
   "metadata": {},
   "outputs": [],
   "source": [
    "def framework(folder_img, folder_gt, resize, folder_store, pannel = True, visual_check = False) :\n",
    "    \n",
    "    \"\"\"This function will handle all the nescessary steps to prepare the data\n",
    "    \n",
    "    --------Params----------\n",
    "    folder_img : path to the folder containing the images\n",
    "    folder_gt : parth to the folder containing the groundtruth\n",
    "    resize : int, what size should all the images be set too\n",
    "    folder_store : path to store the pannels if pannel = True\n",
    "    pannel : whether or not to use the pannel as input images or the full image (pannel recommended)\n",
    "    visual_check : If True, will print the 10 first pannels and their corresponding groundtruth to check everything went well\n",
    "    \n",
    "    --------Output----------\n",
    "    If pannel == True : all the pannels and the resized groundtruth of the input images\n",
    "    info.dat : File containing the positive images and their groundtruth\n",
    "    bg.txt : File containing the negative images (no faces)\n",
    "    \n",
    "    \"\"\"\n",
    "    \n",
    "    print(\"Loading images from folder : \", folder_img)\n",
    "    images, path_images = load_images_from_folder(folder_img)\n",
    "    print(\"Check dataset length : \", len(images))\n",
    "\n",
    "    # Load groundtruth :\n",
    "    print(\"Loading groundtruth from folder : \", folder_gt)\n",
    "    groundtruth, path_groundtruth = load_all_groundtruth(folder_gt, 5)\n",
    "    print(\"Check groundtruth length : \", len(groundtruth))\n",
    "\n",
    "    # Change size :\n",
    "    print(\"resizing to width = \", resize)\n",
    "    resize_img_and_gt(resize, images, groundtruth)\n",
    "    \n",
    "#     # Add flipped images :\n",
    "    print(\"Adding flipped images\")\n",
    "    add_flip(images, groundtruth)\n",
    "    \n",
    "#     # Blur images : \n",
    "    print(\"Bluring images\")\n",
    "    blur(images)\n",
    "    \n",
    "    # Extract pannels\n",
    "    print(\"Extracting pannels and new gt, storing in : \", folder_store)\n",
    "    get_set_pannels(images, groundtruth, folder_store, pannel)\n",
    "    \n",
    "    # Reload new values \n",
    "    print(\"Reloading new images and new gt from:\", folder_store, \"/img_train\")\n",
    "    images, path_image = load_images_from_folder(folder_store + \"/img_train\")\n",
    "    print(\"Check dataset length : \", len(images))\n",
    "    groundtruth, path_groundtruth = load_all_groundtruth(folder_store + \"/gt_train\", 4)\n",
    "    print(\"Check groundtruth length : \", len(groundtruth))\n",
    "    \n",
    "    if(visual_check) :\n",
    "        #Print first sample to check :\n",
    "        for i in range(10):\n",
    "            print_exemple(i, images, groundtruth, modified = True)\n",
    "        \n",
    "    #Write info.dat (For the OpenCV framework)\n",
    "    print(\"Creating info.dat, make sure the previous one was deleted !\")\n",
    "    f = open(\"info.dat\", \"w\")\n",
    "    j = 0 \n",
    "    for i in range(len(groundtruth)) :\n",
    "        if groundtruth[i].shape[0] != 0 :\n",
    "            j+=len(groundtruth[i])\n",
    "            if j == 823 :\n",
    "                print(path_image[i])\n",
    "            f.write(path_image[i] + ' ' + str(len(groundtruth[i])) + ' ' + to_string(rewrite_coord(groundtruth[i])) + '\\n')\n",
    "    print(\"Number of pos samples :\", j)\n",
    "    f.close()\n",
    "        \n",
    "    #Write bg.txt (For the OpenCV framework)\n",
    "    print(\"Creating bg.txt, make sure the previous one was deleted !\")\n",
    "    f = open(\"bg.txt\", \"w\")\n",
    "    j = 0 \n",
    "    for i in range(len(groundtruth)) :\n",
    "        if groundtruth[i].shape[0] == 0 :\n",
    "            j+=1\n",
    "            f.write(path_image[i] + '\\n')\n",
    "    print(\"Number of neg samples :\", j)\n",
    "    f.close()\n",
    "    \n",
    "    print(\"Run opencv framework !\")"
   ]
  },
  {
   "cell_type": "code",
   "execution_count": 15,
   "metadata": {},
   "outputs": [],
   "source": [
    "##Prepare the Parameters \n",
    "\n",
    "\n",
    "## Folder where to get the images for the training\n",
    "folder_img=\"../dataset/train_test/complete/img_train\"\n",
    "\n",
    "## Folder where to get the groundtruth \n",
    "folder_gt=\"../dataset/train_test/complete/gt_train\"\n",
    "\n",
    "## Storing folder \n",
    "folder_store=\"pannels/complete/aug2\"\n",
    "\n",
    "## Size of the images\n",
    "image_size = 800\n",
    "\n",
    "## Whether or not to split the images in Pannels\n",
    "pannel = True"
   ]
  },
  {
   "cell_type": "code",
   "execution_count": 16,
   "metadata": {},
   "outputs": [
    {
     "name": "stdout",
     "output_type": "stream",
     "text": [
      "Loading images from folder :  ../dataset/train_test/complete/img_train\n",
      "Check dataset length :  571\n",
      "Loading groundtruth from folder :  ../dataset/train_test/complete/gt_train\n",
      "Check groundtruth length :  571\n",
      "resizing to width =  800\n",
      "Adding flipped images\n",
      "Bluring images\n",
      "Extracting pannels and new gt, storing in :  pannels/complete/aug2\n",
      "Reloading new images and new gt from: pannels/complete/aug2 /img_train\n",
      "Check dataset length :  6852\n",
      "Check groundtruth length :  6852\n",
      "Creating info.dat, make sure the previous one was deleted !\n",
      "pannels/complete/aug2/img_train\\0102-0004.jpg\n",
      "Number of pos samples : 8026\n",
      "Creating bg.txt, make sure the previous one was deleted !\n",
      "Number of neg samples : 2556\n",
      "Run opencv framework !\n"
     ]
    }
   ],
   "source": [
    "framework(folder_img, folder_gt, image_size, folder_store, pannel, visual_check = True)"
   ]
  },
  {
   "cell_type": "markdown",
   "metadata": {},
   "source": [
    "### How to run ?\n",
    "\n",
    "Once this framework is done running, two files were created : info.dat and bg.txt, they respectivelly correspond to the postives and negatives samples (images whit faces and images without any face). \n",
    "\n",
    "These are the usefull files to train the model. Once they are created :\n",
    "- Open a terminal and go to the directory\n",
    "- run this command : \"path_to_open_cv\"\\opencv\\build\\x64\\vc15\\bin\\opencv_createsamples.exe -info info.dat -w 20 -h 20 -num 500 -vec pos.vec (Obviously width, heigth and number of sample can be change). This will create a pos.vec file containing the information about the positives samples\n",
    "- run : \"path_to_opencv\"\\opencv\\build\\x64\\vc15\\bin\\opencv_traincascade.exe -data store_folder -vec pos.vec -bg bg.txt -w 20 -h 20 -numPos 300 -numNeg 500 -numStages 5 -maxFalseAlarmRate 0.15 -minHitRate 0.95 (Again all parameters can be parametrized). This will train the model and save it to store_folder."
   ]
  }
 ],
 "metadata": {
  "kernelspec": {
   "display_name": "Python 3",
   "language": "python",
   "name": "python3"
  },
  "language_info": {
   "codemirror_mode": {
    "name": "ipython",
    "version": 3
   },
   "file_extension": ".py",
   "mimetype": "text/x-python",
   "name": "python",
   "nbconvert_exporter": "python",
   "pygments_lexer": "ipython3",
   "version": "3.7.4"
  }
 },
 "nbformat": 4,
 "nbformat_minor": 4
}
