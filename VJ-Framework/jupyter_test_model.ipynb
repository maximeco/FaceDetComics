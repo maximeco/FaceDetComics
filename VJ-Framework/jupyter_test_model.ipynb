{
 "cells": [
  {
   "cell_type": "code",
   "execution_count": 1,
   "metadata": {},
   "outputs": [],
   "source": [
    "# Imports\n",
    "import cv2 as cv\n",
    "from vjutility import *\n",
    "import tqdm"
   ]
  },
  {
   "cell_type": "code",
   "execution_count": 19,
   "metadata": {},
   "outputs": [],
   "source": [
    "face_cascade = cv.CascadeClassifier('vj_models/bad/test/cascade.xml')"
   ]
  },
  {
   "cell_type": "code",
   "execution_count": 7,
   "metadata": {},
   "outputs": [],
   "source": [
    "def print_exemple(index, images, groundtruth, modified = False, pred = None, display = True) :\n",
    "    '''\n",
    "    Given an index, will print the image with the groundtruth and the prediction \n",
    "\n",
    "    :param image: given image\n",
    "    :param int width: desired final width \n",
    "    :param int width: desired final height\n",
    "    :Note : if both are given, height will be ignored to conserve aspect ratio\n",
    "    :return: copy of the image resized\n",
    "    ''' \n",
    "    copy = images[index].copy()\n",
    "    \n",
    "    if pred is not None:\n",
    "        if pred[index] is not None:\n",
    "            for (column, row, width, height) in pred[index]:\n",
    "                cv.rectangle(copy, (column, row), (column + width, row + height),\n",
    "                (0, 255, 0), 4)\n",
    "    if modified :\n",
    "        for (column, row, width, height) in groundtruth[index]:\n",
    "            cv.rectangle(copy, (column, row), (column+width, row+height),\n",
    "            (0, 0, 255), 4)\n",
    "    else :\n",
    "        if groundtruth[index].size > 0 :\n",
    "            for (x1, y1, x2, y2) in groundtruth[index][:, 1:]:\n",
    "                cv.rectangle(copy, (x1, y1), (x2, y2), (255, 0, 0), 4)\n",
    "\n",
    "    copy = resize_img(copy, width=680)\n",
    "    if display :\n",
    "        cv.imshow(\"example\", copy)\n",
    "        cv.waitKey(0)  \n",
    "        cv.destroyAllWindows()  \n",
    "    return copy"
   ]
  },
  {
   "cell_type": "code",
   "execution_count": 8,
   "metadata": {},
   "outputs": [],
   "source": [
    "def testing(folder_test, folder_store, network, display = False) :\n",
    "    # We load the images and groundtruth, the resize them (so the the prediction time is lower)\n",
    "    \n",
    "    folder_img=\"%s/img_test\"%(folder_test)\n",
    "    folder_gt=\"%s/gt_test\"%(folder_test)\n",
    "    \n",
    "    images, path_img = load_images_from_folder(folder_img)\n",
    "    groundtruth, path_gt = load_face_groundtruth_from_folder(folder_gt, 5)\n",
    "    resize_img_and_gt(800, images, groundtruth)\n",
    "\n",
    "    # Convert color image to grayscale for Viola-Jones\n",
    "    img_vj = [cv.cvtColor(img, cv.COLOR_BGR2GRAY) for img in images]\n",
    "\n",
    "    pred_vj = []\n",
    "    # Get all the predictions\n",
    "    for img in tqdm.tqdm(img_vj) : \n",
    "        detected_faces = face_cascade.detectMultiScale(img)\n",
    "        pred_vj.append(detected_faces)\n",
    "        \n",
    "    for i in range(len(images)):\n",
    "        r = print_exemple(i, images, groundtruth, pred = pred_vj, display = False)\n",
    "        ensure_dir(\"vj_models/%s/sample_test/%s/%s.jpg\"%(folder_store, network, f\"{i:04}\"))\n",
    "        result = cv.imwrite(\"vj_models/%s/sample_test/%s/%s.jpg\"%(folder_store, network, f\"{i:04}\"), r)\n",
    "        \n",
    "    tp_tot, fp_tot, fn_tot = compute_metrics(groundtruth, pred_vj, True)\n",
    "    precision, recall, f_score = prec_rec_f(tp_tot, fp_tot, fn_tot)\n",
    "    print(precision, recall, f_score)\n",
    "\n",
    "\n",
    "    f = open(\"vj_models/%s/results%s.txt\"%(folder_store, network), \"a\")\n",
    "    f.write(\"Results from %s : Precision : %s, Recall : %s, F_score : %s\"%(folder_test, precision, recall, f_score) + '\\n')\n",
    "\n",
    "    f.close()\n",
    "    \n",
    "    return pred_vj, groundtruth"
   ]
  },
  {
   "cell_type": "code",
   "execution_count": 18,
   "metadata": {},
   "outputs": [
    {
     "name": "stdout",
     "output_type": "stream",
     "text": [
      "Testing on the ../dataset/train_test/good folder : \n",
      " Precision, Recall, f-score\n"
     ]
    },
    {
     "name": "stderr",
     "output_type": "stream",
     "text": [
      "100%|██████████| 30/30 [00:04<00:00,  6.07it/s]\n"
     ]
    },
    {
     "name": "stdout",
     "output_type": "stream",
     "text": [
      "0.8163265306122449 0.13245033112582782 0.2162454385727801\n",
      "Testing on the ../dataset/train_test/average folder : \n",
      " Precision, Recall, f-score\n"
     ]
    },
    {
     "name": "stderr",
     "output_type": "stream",
     "text": [
      "100%|██████████| 76/76 [00:12<00:00,  5.98it/s]\n"
     ]
    },
    {
     "name": "stdout",
     "output_type": "stream",
     "text": [
      "0.7560975609756098 0.056363636363636366 0.08523281596452328\n",
      "Testing on the ../dataset/train_test/bad folder : \n",
      " Precision, Recall, f-score\n"
     ]
    },
    {
     "name": "stderr",
     "output_type": "stream",
     "text": [
      "100%|██████████| 55/55 [00:08<00:00,  6.57it/s]\n"
     ]
    },
    {
     "name": "stdout",
     "output_type": "stream",
     "text": [
      "0.859375 0.13253012048192772 0.22778614457831328\n",
      "Testing on the ../dataset/train_test/complete folder : \n",
      " Precision, Recall, f-score\n"
     ]
    },
    {
     "name": "stderr",
     "output_type": "stream",
     "text": [
      "100%|██████████| 161/161 [00:27<00:00,  5.92it/s]\n"
     ]
    },
    {
     "name": "stdout",
     "output_type": "stream",
     "text": [
      "0.8092485549132948 0.11945392491467577 0.1933358322318452\n"
     ]
    }
   ],
   "source": [
    "folder_store = \"bad/test\"\n",
    "network = \"vj\"\n",
    "\n",
    "\n",
    "folder_test = \"../dataset/train_test/good\"\n",
    "print(\"Testing on the %s folder : \\n Precision, Recall, f-score\"%(folder_test))\n",
    "pred_vj, groundtruth = testing(folder_test, folder_store, network)\n",
    "\n",
    "folder_test = \"../dataset/train_test/average\"\n",
    "print(\"Testing on the %s folder : \\n Precision, Recall, f-score\"%(folder_test))\n",
    "pred_vj, groundtruth = testing(folder_test, folder_store, network)\n",
    "\n",
    "folder_test = \"../dataset/train_test/bad\"\n",
    "print(\"Testing on the %s folder : \\n Precision, Recall, f-score\"%(folder_test))\n",
    "pred_vj, groundtruth = testing(folder_test, folder_store, network)\n",
    "\n",
    "folder_test = \"../dataset/train_test/complete\"\n",
    "print(\"Testing on the %s folder : \\n Precision, Recall, f-score\"%(folder_test))\n",
    "pred_vj, groundtruth = testing(folder_test, folder_store, network)"
   ]
  },
  {
   "cell_type": "code",
   "execution_count": 20,
   "metadata": {},
   "outputs": [
    {
     "name": "stdout",
     "output_type": "stream",
     "text": [
      "Testing on the ../dataset/train_test/good folder : \n",
      " Precision, Recall, f-score\n"
     ]
    },
    {
     "name": "stderr",
     "output_type": "stream",
     "text": [
      "100%|██████████| 30/30 [00:05<00:00,  5.56it/s]\n"
     ]
    },
    {
     "name": "stdout",
     "output_type": "stream",
     "text": [
      "0.7063492063492064 0.2947019867549669 0.41588785046728977\n",
      "Testing on the ../dataset/train_test/average folder : \n",
      " Precision, Recall, f-score\n"
     ]
    },
    {
     "name": "stderr",
     "output_type": "stream",
     "text": [
      "100%|██████████| 76/76 [00:13<00:00,  5.76it/s]\n"
     ]
    },
    {
     "name": "stdout",
     "output_type": "stream",
     "text": [
      "0.5289855072463768 0.13272727272727272 0.14042160737812912\n",
      "Testing on the ../dataset/train_test/bad folder : \n",
      " Precision, Recall, f-score\n"
     ]
    },
    {
     "name": "stderr",
     "output_type": "stream",
     "text": [
      "100%|██████████| 55/55 [00:08<00:00,  6.51it/s]\n"
     ]
    },
    {
     "name": "stdout",
     "output_type": "stream",
     "text": [
      "0.6358024691358025 0.24819277108433735 0.3156031533541574\n",
      "Testing on the ../dataset/train_test/complete folder : \n",
      " Precision, Recall, f-score\n"
     ]
    },
    {
     "name": "stderr",
     "output_type": "stream",
     "text": [
      "100%|██████████| 161/161 [00:27<00:00,  5.79it/s]\n"
     ]
    },
    {
     "name": "stdout",
     "output_type": "stream",
     "text": [
      "0.5778301886792453 0.2090443686006826 0.24158429390173225\n"
     ]
    }
   ],
   "source": [
    "folder_store = \"bad/test\"\n",
    "network = \"vj\"\n",
    "\n",
    "\n",
    "folder_test = \"../dataset/train_test/good\"\n",
    "print(\"Testing on the %s folder : \\n Precision, Recall, f-score\"%(folder_test))\n",
    "pred_vj, groundtruth = testing(folder_test, folder_store, network)\n",
    "\n",
    "folder_test = \"../dataset/train_test/average\"\n",
    "print(\"Testing on the %s folder : \\n Precision, Recall, f-score\"%(folder_test))\n",
    "pred_vj, groundtruth = testing(folder_test, folder_store, network)\n",
    "\n",
    "folder_test = \"../dataset/train_test/bad\"\n",
    "print(\"Testing on the %s folder : \\n Precision, Recall, f-score\"%(folder_test))\n",
    "pred_vj, groundtruth = testing(folder_test, folder_store, network)\n",
    "\n",
    "folder_test = \"../dataset/train_test/complete\"\n",
    "print(\"Testing on the %s folder : \\n Precision, Recall, f-score\"%(folder_test))\n",
    "pred_vj, groundtruth = testing(folder_test, folder_store, network)"
   ]
  },
  {
   "cell_type": "code",
   "execution_count": 9,
   "metadata": {},
   "outputs": [
    {
     "name": "stdout",
     "output_type": "stream",
     "text": [
      "Testing on the ../dataset/train_test/good folder : \n",
      " Precision, Recall, f-score\n"
     ]
    },
    {
     "name": "stderr",
     "output_type": "stream",
     "text": [
      "100%|██████████| 30/30 [00:06<00:00,  4.98it/s]\n"
     ]
    },
    {
     "name": "stdout",
     "output_type": "stream",
     "text": [
      "0.378021978021978 0.5695364238410596 0.430594570991922\n",
      "Testing on the ../dataset/train_test/average folder : \n",
      " Precision, Recall, f-score\n"
     ]
    },
    {
     "name": "stderr",
     "output_type": "stream",
     "text": [
      "100%|██████████| 76/76 [00:14<00:00,  5.12it/s]\n"
     ]
    },
    {
     "name": "stdout",
     "output_type": "stream",
     "text": [
      "0.29310344827586204 0.4018181818181818 0.23554858934169276\n",
      "Testing on the ../dataset/train_test/bad folder : \n",
      " Precision, Recall, f-score\n"
     ]
    },
    {
     "name": "stderr",
     "output_type": "stream",
     "text": [
      "100%|██████████| 55/55 [00:08<00:00,  6.30it/s]\n"
     ]
    },
    {
     "name": "stdout",
     "output_type": "stream",
     "text": [
      "0.3194888178913738 0.24096385542168675 0.1539705146464452\n",
      "Testing on the ../dataset/train_test/complete folder : \n",
      " Precision, Recall, f-score\n"
     ]
    },
    {
     "name": "stderr",
     "output_type": "stream",
     "text": [
      "100%|██████████| 161/161 [00:33<00:00,  4.76it/s]\n"
     ]
    },
    {
     "name": "stdout",
     "output_type": "stream",
     "text": [
      "0.32333767926988266 0.4232081911262799 0.2736783087335526\n"
     ]
    }
   ],
   "source": [
    "folder_store = \"average/test2\"\n",
    "network = \"vj\"\n",
    "\n",
    "\n",
    "folder_test = \"../dataset/train_test/good\"\n",
    "print(\"Testing on the %s folder : \\n Precision, Recall, f-score\"%(folder_test))\n",
    "pred_vj, groundtruth = testing(folder_test, folder_store, network)\n",
    "\n",
    "folder_test = \"../dataset/train_test/average\"\n",
    "print(\"Testing on the %s folder : \\n Precision, Recall, f-score\"%(folder_test))\n",
    "pred_vj, groundtruth = testing(folder_test, folder_store, network)\n",
    "\n",
    "folder_test = \"../dataset/train_test/bad\"\n",
    "print(\"Testing on the %s folder : \\n Precision, Recall, f-score\"%(folder_test))\n",
    "pred_vj, groundtruth = testing(folder_test, folder_store, network)\n",
    "\n",
    "folder_test = \"../dataset/train_test/complete\"\n",
    "print(\"Testing on the %s folder : \\n Precision, Recall, f-score\"%(folder_test))\n",
    "pred_vj, groundtruth = testing(folder_test, folder_store, network)"
   ]
  }
 ],
 "metadata": {
  "kernelspec": {
   "display_name": "Python 3",
   "language": "python",
   "name": "python3"
  },
  "language_info": {
   "codemirror_mode": {
    "name": "ipython",
    "version": 3
   },
   "file_extension": ".py",
   "mimetype": "text/x-python",
   "name": "python",
   "nbconvert_exporter": "python",
   "pygments_lexer": "ipython3",
   "version": "3.7.4"
  }
 },
 "nbformat": 4,
 "nbformat_minor": 4
}
